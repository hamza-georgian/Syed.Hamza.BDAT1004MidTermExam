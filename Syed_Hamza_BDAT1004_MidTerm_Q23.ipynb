{
 "cells": [
  {
   "cell_type": "markdown",
   "id": "e51d3b0e-d4e8-40c8-8ca4-0715a74b79d8",
   "metadata": {},
   "source": [
    "#### This is Syed Hamza from BDAT 1004 24F. This is the <mark> Question No. 23 </mark> of my Mid Term Exam"
   ]
  },
  {
   "cell_type": "code",
   "execution_count": 207,
   "id": "f23322cf-b631-4862-ab9a-c102200220ef",
   "metadata": {},
   "outputs": [],
   "source": [
    "def tough(i, icon):  #the argument i is used for the indendation part,and icon is used for the star pattern\n",
    "\n",
    "    if icon <= 0:        #this is the base class for the recursion to stop it\n",
    "        return  \n",
    "        \n",
    "    def f(i, icon):   #kind of  a wrapper function as an application scenario\n",
    "        \n",
    "        if icon > 0:\n",
    "            f(i, icon // 2)                #displaying last pattern\n",
    "            print(\" \" * i + \"*\" * icon)     #for displaying middlth row of the stars - icon\n",
    "            f(i + 1, icon // 2)            #displaying previous pattern\n",
    "        \n",
    "    f(i, icon)  #calling the function"
   ]
  },
  {
   "cell_type": "code",
   "execution_count": 209,
   "id": "8a93c4b9-c6ef-49d0-bec6-a08efe9d66a7",
   "metadata": {},
   "outputs": [],
   "source": [
    "#test case No. 1\n",
    "f(0, 0)"
   ]
  },
  {
   "cell_type": "code",
   "execution_count": 211,
   "id": "5009e1a5-b32c-4adc-92d7-2c28d95621f6",
   "metadata": {},
   "outputs": [
    {
     "name": "stdout",
     "output_type": "stream",
     "text": [
      "*\n"
     ]
    }
   ],
   "source": [
    "#test case No. 2\n",
    "f(0, 1)"
   ]
  },
  {
   "cell_type": "code",
   "execution_count": 213,
   "id": "a9953bd3-672a-4c44-a518-546c6644f389",
   "metadata": {},
   "outputs": [
    {
     "name": "stdout",
     "output_type": "stream",
     "text": [
      "*\n",
      "**\n",
      " *\n"
     ]
    }
   ],
   "source": [
    "#test case No. 3\n",
    "f(0, 2)"
   ]
  },
  {
   "cell_type": "code",
   "execution_count": 215,
   "id": "51f4af94-8157-407f-8eb4-792b31f8450a",
   "metadata": {},
   "outputs": [
    {
     "name": "stdout",
     "output_type": "stream",
     "text": [
      "*\n",
      "**\n",
      " *\n",
      "****\n",
      " *\n",
      " **\n",
      "  *\n"
     ]
    }
   ],
   "source": [
    "#test case No. 4\n",
    "f(0, 4)"
   ]
  }
 ],
 "metadata": {
  "kernelspec": {
   "display_name": "Python 3 (ipykernel)",
   "language": "python",
   "name": "python3"
  },
  "language_info": {
   "codemirror_mode": {
    "name": "ipython",
    "version": 3
   },
   "file_extension": ".py",
   "mimetype": "text/x-python",
   "name": "python",
   "nbconvert_exporter": "python",
   "pygments_lexer": "ipython3",
   "version": "3.11.7"
  }
 },
 "nbformat": 4,
 "nbformat_minor": 5
}
