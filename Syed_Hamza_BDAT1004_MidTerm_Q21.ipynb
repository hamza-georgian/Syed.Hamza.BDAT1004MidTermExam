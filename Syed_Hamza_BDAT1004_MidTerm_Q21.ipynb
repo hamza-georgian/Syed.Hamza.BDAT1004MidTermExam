{
 "cells": [
  {
   "cell_type": "markdown",
   "id": "46342fd8-c8ed-47ad-8274-2c318489803b",
   "metadata": {},
   "source": [
    "#### This is Syed Hamza from BDAT 1004 24F. This is the <mark> Question No. 21 </mark> of my Mid Term Exam"
   ]
  },
  {
   "cell_type": "code",
   "execution_count": 53,
   "id": "3d156842-298f-4c41-8b55-ca875211bb4c",
   "metadata": {},
   "outputs": [],
   "source": [
    "class Point:  #creating the Point class\n",
    "    def __init__(self, x=0, y=0):        #__int()__: Constructor that takes as input a pair of Point objects that represent the ends points of the line segment\n",
    "        'initialize point pairs'\n",
    "        self.x = x\n",
    "        self.y = y\n",
    "    \n",
    "    def get(self):\n",
    "        return(self.x, self.y)\n",
    "    \n",
    "    def __repr__(self):\n",
    "        return 'Point({},{})'.format(self.x,self.y)\n",
    "    \n",
    "    def __add__(self, point):\n",
    "        return Point(self.x+point.x, self.y+point.y)    \n",
    "    \n",
    "    def __sub__(self, point):\n",
    "        return Point(self.x-point.x, self.y-point.y)\n",
    "    \n",
    "class Segment:\n",
    "    def __init__(self, p1=Point(0,0), p2=Point(0,0)):\n",
    "        self.p1 = p1\n",
    "        self.p2 = p2\n",
    "    \n",
    "    def get(self):\n",
    "        return(self.p1, self.p2)\n",
    "    \n",
    "    def __repr__(self):\n",
    "        return 'Segment({},{})'.format(self.p1, self.p2)\n",
    "    \n",
    "    def length(self):  #Length():: returns the length of the segment \n",
    "        return (((self.p1-self.p2).x)**2 + ((self.p1-self.p2).y)**2)**(1/2)\n",
    "    \n",
    "    def slope(self):  #Slope() returns the slope of the segment of none if the slope is unbounded \n",
    "        if self.p1.x == self.p2.x:\n",
    "            if self.p1.y == self.p2.y:\n",
    "                return(\"None\")\n",
    "            else:\n",
    "                return(\"Infinity\")\n",
    "        else:\n",
    "            return (self.p1-self.p2).y / (self.p1-self.p2).x"
   ]
  },
  {
   "cell_type": "code",
   "execution_count": 55,
   "id": "1c7b6599-ace5-4d0b-b308-864499ab7e7a",
   "metadata": {},
   "outputs": [
    {
     "name": "stdout",
     "output_type": "stream",
     "text": [
      "5.0\n",
      "1.3333333333333333\n"
     ]
    }
   ],
   "source": [
    "#checking the given code in the exam to generate the expected output\n",
    "\n",
    "p1 = Point(3,4)\n",
    "\n",
    "p2 = Point()\n",
    "\n",
    "s = Segment(p1,p2)\n",
    "\n",
    "print(s.length())\n",
    "\n",
    "print(s.slope())    #for this question, the output is shown as 0.75 in the exam question, I think there could be an error  with the formula applied"
   ]
  },
  {
   "cell_type": "markdown",
   "id": "4949650b-a548-4853-bc50-fae3732b32e2",
   "metadata": {},
   "source": [
    "#### Reflection:"
   ]
  },
  {
   "cell_type": "markdown",
   "id": "6ed1a9af-6f87-4796-a5d7-41722f7cd6c6",
   "metadata": {},
   "source": [
    "I think there was a mistake with the execution of s.slope() as the answer turns out to be 1.33 compared to the expected 0.75. The answer will be only 0.75 for s.slope() if we create p1 as Point(4,3)."
   ]
  }
 ],
 "metadata": {
  "kernelspec": {
   "display_name": "Python 3 (ipykernel)",
   "language": "python",
   "name": "python3"
  },
  "language_info": {
   "codemirror_mode": {
    "name": "ipython",
    "version": 3
   },
   "file_extension": ".py",
   "mimetype": "text/x-python",
   "name": "python",
   "nbconvert_exporter": "python",
   "pygments_lexer": "ipython3",
   "version": "3.11.7"
  }
 },
 "nbformat": 4,
 "nbformat_minor": 5
}
