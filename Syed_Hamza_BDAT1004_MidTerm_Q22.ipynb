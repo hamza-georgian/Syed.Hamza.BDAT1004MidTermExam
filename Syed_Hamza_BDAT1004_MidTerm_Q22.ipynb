{
 "cells": [
  {
   "cell_type": "markdown",
   "id": "9a8210a6-9c83-41ff-b71c-553f1c34dd6b",
   "metadata": {},
   "source": [
    "#### This is Syed Hamza from BDAT 1004 24F. This is the <mark> Question No. 22 </mark> of my Mid Term Exam"
   ]
  },
  {
   "cell_type": "code",
   "execution_count": 22,
   "id": "012c4b72-2e60-435c-b832-a31a34a509b3",
   "metadata": {},
   "outputs": [
    {
     "data": {
      "text/plain": [
       "<sqlite3.Cursor at 0x1227e5e9640>"
      ]
     },
     "execution_count": 22,
     "metadata": {},
     "output_type": "execute_result"
    }
   ],
   "source": [
    "import sqlite3   #importing our library for SQL\n",
    "\n",
    "con = sqlite3.connect('weather.db')     #creating a SQLite database and connecting to it\n",
    "cur = con.cursor()\n",
    "\n",
    "#creating the Weather table\n",
    "cur.execute('''\n",
    "    CREATE TABLE Weather (\n",
    "        id INT PRIMARY KEY,\n",
    "        recordDate DATE,\n",
    "        temperature INT\n",
    "    );\n",
    "''')\n",
    "\n",
    "#inserting the data into the Weather table\n",
    "data = [\n",
    "    (1, '2015-01-01', 10),\n",
    "    (2, '2015-01-02', 25),\n",
    "    (3, '2015-01-03', 20),\n",
    "    (4, '2015-01-04', 30)\n",
    "]\n",
    "\n",
    "cur.executemany('INSERT INTO Weather (id, recordDate, temperature) VALUES (?, ?, ?)', data)\n",
    "\n",
    "#commiting the changes\n",
    "con.commit()\n",
    "\n",
    "#applying the required query to find temperature more than previous days\n",
    "cur.execute('''\n",
    "    SELECT w1.id\n",
    "    FROM Weather w1\n",
    "    JOIN Weather w2 ON w1.id = w2.id + 1\n",
    "    WHERE w1.temperature > w2.temperature\n",
    "''')\n",
    "\n"
   ]
  },
  {
   "cell_type": "code",
   "execution_count": 24,
   "id": "c017fb0b-90f6-447e-bc37-0ea38d62857d",
   "metadata": {},
   "outputs": [
    {
     "name": "stdout",
     "output_type": "stream",
     "text": [
      "2\n",
      "4\n"
     ]
    }
   ],
   "source": [
    "#testing to our requirement\n",
    "\n",
    "result = cur.fetchall()\n",
    "\n",
    "for row in result:\n",
    "    print(row[0])\n",
    "\n",
    "# Close the connection\n",
    "con.close()"
   ]
  }
 ],
 "metadata": {
  "kernelspec": {
   "display_name": "Python 3 (ipykernel)",
   "language": "python",
   "name": "python3"
  },
  "language_info": {
   "codemirror_mode": {
    "name": "ipython",
    "version": 3
   },
   "file_extension": ".py",
   "mimetype": "text/x-python",
   "name": "python",
   "nbconvert_exporter": "python",
   "pygments_lexer": "ipython3",
   "version": "3.11.7"
  }
 },
 "nbformat": 4,
 "nbformat_minor": 5
}
